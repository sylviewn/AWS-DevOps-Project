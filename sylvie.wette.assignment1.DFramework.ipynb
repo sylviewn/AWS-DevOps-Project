{
  "nbformat": 4,
  "nbformat_minor": 0,
  "metadata": {
    "colab": {
      "provenance": [],
      "authorship_tag": "ABX9TyOMiRJz89G4fIYzHN2QGwxq",
      "include_colab_link": true
    },
    "kernelspec": {
      "name": "python3",
      "display_name": "Python 3"
    },
    "language_info": {
      "name": "python"
    }
  },
  "cells": [
    {
      "cell_type": "markdown",
      "metadata": {
        "id": "view-in-github",
        "colab_type": "text"
      },
      "source": [
        "<a href=\"https://colab.research.google.com/github/sylviewn/AWS-DevOps-Project/blob/master/sylvie.wette.assignment1.DFramework.ipynb\" target=\"_parent\"><img src=\"https://colab.research.google.com/assets/colab-badge.svg\" alt=\"Open In Colab\"/></a>"
      ]
    },
    {
      "cell_type": "markdown",
      "source": [
        "#Exploratory Data Analysis"
      ],
      "metadata": {
        "id": "7wBFcPjk0vr8"
      }
    },
    {
      "cell_type": "code",
      "source": [
        "#Load the data from the Excel file.\n",
        "\n",
        "import pandas as pd\n",
        "\n",
        "# Load the dataset\n",
        "iris_df = pd.read_excel(\"/content/iris.xlsx\")\n",
        "\n",
        "# Display the first few rows of the dataset to understand its structure\n",
        "iris_df.head()\n"
      ],
      "metadata": {
        "colab": {
          "base_uri": "https://localhost:8080/",
          "height": 206
        },
        "id": "ko_SfuUI0aJG",
        "outputId": "bd8d97da-cb62-4a41-e49d-d2eda554d415"
      },
      "execution_count": 1,
      "outputs": [
        {
          "output_type": "execute_result",
          "data": {
            "text/plain": [
              "   sepal.length  sepal.width  petal.length  petal.width variety\n",
              "0           5.1          3.5           1.4          0.2  Setosa\n",
              "1           4.9          3.0           1.4          0.2  Setosa\n",
              "2           4.7          3.2           1.3          0.2  Setosa\n",
              "3           4.6          3.1           1.5          0.2  Setosa\n",
              "4           5.0          3.6           1.4          0.2  Setosa"
            ],
            "text/html": [
              "\n",
              "  <div id=\"df-615adf15-2ea4-4c47-be18-5ce6ebacabfa\" class=\"colab-df-container\">\n",
              "    <div>\n",
              "<style scoped>\n",
              "    .dataframe tbody tr th:only-of-type {\n",
              "        vertical-align: middle;\n",
              "    }\n",
              "\n",
              "    .dataframe tbody tr th {\n",
              "        vertical-align: top;\n",
              "    }\n",
              "\n",
              "    .dataframe thead th {\n",
              "        text-align: right;\n",
              "    }\n",
              "</style>\n",
              "<table border=\"1\" class=\"dataframe\">\n",
              "  <thead>\n",
              "    <tr style=\"text-align: right;\">\n",
              "      <th></th>\n",
              "      <th>sepal.length</th>\n",
              "      <th>sepal.width</th>\n",
              "      <th>petal.length</th>\n",
              "      <th>petal.width</th>\n",
              "      <th>variety</th>\n",
              "    </tr>\n",
              "  </thead>\n",
              "  <tbody>\n",
              "    <tr>\n",
              "      <th>0</th>\n",
              "      <td>5.1</td>\n",
              "      <td>3.5</td>\n",
              "      <td>1.4</td>\n",
              "      <td>0.2</td>\n",
              "      <td>Setosa</td>\n",
              "    </tr>\n",
              "    <tr>\n",
              "      <th>1</th>\n",
              "      <td>4.9</td>\n",
              "      <td>3.0</td>\n",
              "      <td>1.4</td>\n",
              "      <td>0.2</td>\n",
              "      <td>Setosa</td>\n",
              "    </tr>\n",
              "    <tr>\n",
              "      <th>2</th>\n",
              "      <td>4.7</td>\n",
              "      <td>3.2</td>\n",
              "      <td>1.3</td>\n",
              "      <td>0.2</td>\n",
              "      <td>Setosa</td>\n",
              "    </tr>\n",
              "    <tr>\n",
              "      <th>3</th>\n",
              "      <td>4.6</td>\n",
              "      <td>3.1</td>\n",
              "      <td>1.5</td>\n",
              "      <td>0.2</td>\n",
              "      <td>Setosa</td>\n",
              "    </tr>\n",
              "    <tr>\n",
              "      <th>4</th>\n",
              "      <td>5.0</td>\n",
              "      <td>3.6</td>\n",
              "      <td>1.4</td>\n",
              "      <td>0.2</td>\n",
              "      <td>Setosa</td>\n",
              "    </tr>\n",
              "  </tbody>\n",
              "</table>\n",
              "</div>\n",
              "    <div class=\"colab-df-buttons\">\n",
              "\n",
              "  <div class=\"colab-df-container\">\n",
              "    <button class=\"colab-df-convert\" onclick=\"convertToInteractive('df-615adf15-2ea4-4c47-be18-5ce6ebacabfa')\"\n",
              "            title=\"Convert this dataframe to an interactive table.\"\n",
              "            style=\"display:none;\">\n",
              "\n",
              "  <svg xmlns=\"http://www.w3.org/2000/svg\" height=\"24px\" viewBox=\"0 -960 960 960\">\n",
              "    <path d=\"M120-120v-720h720v720H120Zm60-500h600v-160H180v160Zm220 220h160v-160H400v160Zm0 220h160v-160H400v160ZM180-400h160v-160H180v160Zm440 0h160v-160H620v160ZM180-180h160v-160H180v160Zm440 0h160v-160H620v160Z\"/>\n",
              "  </svg>\n",
              "    </button>\n",
              "\n",
              "  <style>\n",
              "    .colab-df-container {\n",
              "      display:flex;\n",
              "      gap: 12px;\n",
              "    }\n",
              "\n",
              "    .colab-df-convert {\n",
              "      background-color: #E8F0FE;\n",
              "      border: none;\n",
              "      border-radius: 50%;\n",
              "      cursor: pointer;\n",
              "      display: none;\n",
              "      fill: #1967D2;\n",
              "      height: 32px;\n",
              "      padding: 0 0 0 0;\n",
              "      width: 32px;\n",
              "    }\n",
              "\n",
              "    .colab-df-convert:hover {\n",
              "      background-color: #E2EBFA;\n",
              "      box-shadow: 0px 1px 2px rgba(60, 64, 67, 0.3), 0px 1px 3px 1px rgba(60, 64, 67, 0.15);\n",
              "      fill: #174EA6;\n",
              "    }\n",
              "\n",
              "    .colab-df-buttons div {\n",
              "      margin-bottom: 4px;\n",
              "    }\n",
              "\n",
              "    [theme=dark] .colab-df-convert {\n",
              "      background-color: #3B4455;\n",
              "      fill: #D2E3FC;\n",
              "    }\n",
              "\n",
              "    [theme=dark] .colab-df-convert:hover {\n",
              "      background-color: #434B5C;\n",
              "      box-shadow: 0px 1px 3px 1px rgba(0, 0, 0, 0.15);\n",
              "      filter: drop-shadow(0px 1px 2px rgba(0, 0, 0, 0.3));\n",
              "      fill: #FFFFFF;\n",
              "    }\n",
              "  </style>\n",
              "\n",
              "    <script>\n",
              "      const buttonEl =\n",
              "        document.querySelector('#df-615adf15-2ea4-4c47-be18-5ce6ebacabfa button.colab-df-convert');\n",
              "      buttonEl.style.display =\n",
              "        google.colab.kernel.accessAllowed ? 'block' : 'none';\n",
              "\n",
              "      async function convertToInteractive(key) {\n",
              "        const element = document.querySelector('#df-615adf15-2ea4-4c47-be18-5ce6ebacabfa');\n",
              "        const dataTable =\n",
              "          await google.colab.kernel.invokeFunction('convertToInteractive',\n",
              "                                                    [key], {});\n",
              "        if (!dataTable) return;\n",
              "\n",
              "        const docLinkHtml = 'Like what you see? Visit the ' +\n",
              "          '<a target=\"_blank\" href=https://colab.research.google.com/notebooks/data_table.ipynb>data table notebook</a>'\n",
              "          + ' to learn more about interactive tables.';\n",
              "        element.innerHTML = '';\n",
              "        dataTable['output_type'] = 'display_data';\n",
              "        await google.colab.output.renderOutput(dataTable, element);\n",
              "        const docLink = document.createElement('div');\n",
              "        docLink.innerHTML = docLinkHtml;\n",
              "        element.appendChild(docLink);\n",
              "      }\n",
              "    </script>\n",
              "  </div>\n",
              "\n",
              "\n",
              "<div id=\"df-5efbbc40-e103-4d9a-9484-67377257e8f8\">\n",
              "  <button class=\"colab-df-quickchart\" onclick=\"quickchart('df-5efbbc40-e103-4d9a-9484-67377257e8f8')\"\n",
              "            title=\"Suggest charts\"\n",
              "            style=\"display:none;\">\n",
              "\n",
              "<svg xmlns=\"http://www.w3.org/2000/svg\" height=\"24px\"viewBox=\"0 0 24 24\"\n",
              "     width=\"24px\">\n",
              "    <g>\n",
              "        <path d=\"M19 3H5c-1.1 0-2 .9-2 2v14c0 1.1.9 2 2 2h14c1.1 0 2-.9 2-2V5c0-1.1-.9-2-2-2zM9 17H7v-7h2v7zm4 0h-2V7h2v10zm4 0h-2v-4h2v4z\"/>\n",
              "    </g>\n",
              "</svg>\n",
              "  </button>\n",
              "\n",
              "<style>\n",
              "  .colab-df-quickchart {\n",
              "      --bg-color: #E8F0FE;\n",
              "      --fill-color: #1967D2;\n",
              "      --hover-bg-color: #E2EBFA;\n",
              "      --hover-fill-color: #174EA6;\n",
              "      --disabled-fill-color: #AAA;\n",
              "      --disabled-bg-color: #DDD;\n",
              "  }\n",
              "\n",
              "  [theme=dark] .colab-df-quickchart {\n",
              "      --bg-color: #3B4455;\n",
              "      --fill-color: #D2E3FC;\n",
              "      --hover-bg-color: #434B5C;\n",
              "      --hover-fill-color: #FFFFFF;\n",
              "      --disabled-bg-color: #3B4455;\n",
              "      --disabled-fill-color: #666;\n",
              "  }\n",
              "\n",
              "  .colab-df-quickchart {\n",
              "    background-color: var(--bg-color);\n",
              "    border: none;\n",
              "    border-radius: 50%;\n",
              "    cursor: pointer;\n",
              "    display: none;\n",
              "    fill: var(--fill-color);\n",
              "    height: 32px;\n",
              "    padding: 0;\n",
              "    width: 32px;\n",
              "  }\n",
              "\n",
              "  .colab-df-quickchart:hover {\n",
              "    background-color: var(--hover-bg-color);\n",
              "    box-shadow: 0 1px 2px rgba(60, 64, 67, 0.3), 0 1px 3px 1px rgba(60, 64, 67, 0.15);\n",
              "    fill: var(--button-hover-fill-color);\n",
              "  }\n",
              "\n",
              "  .colab-df-quickchart-complete:disabled,\n",
              "  .colab-df-quickchart-complete:disabled:hover {\n",
              "    background-color: var(--disabled-bg-color);\n",
              "    fill: var(--disabled-fill-color);\n",
              "    box-shadow: none;\n",
              "  }\n",
              "\n",
              "  .colab-df-spinner {\n",
              "    border: 2px solid var(--fill-color);\n",
              "    border-color: transparent;\n",
              "    border-bottom-color: var(--fill-color);\n",
              "    animation:\n",
              "      spin 1s steps(1) infinite;\n",
              "  }\n",
              "\n",
              "  @keyframes spin {\n",
              "    0% {\n",
              "      border-color: transparent;\n",
              "      border-bottom-color: var(--fill-color);\n",
              "      border-left-color: var(--fill-color);\n",
              "    }\n",
              "    20% {\n",
              "      border-color: transparent;\n",
              "      border-left-color: var(--fill-color);\n",
              "      border-top-color: var(--fill-color);\n",
              "    }\n",
              "    30% {\n",
              "      border-color: transparent;\n",
              "      border-left-color: var(--fill-color);\n",
              "      border-top-color: var(--fill-color);\n",
              "      border-right-color: var(--fill-color);\n",
              "    }\n",
              "    40% {\n",
              "      border-color: transparent;\n",
              "      border-right-color: var(--fill-color);\n",
              "      border-top-color: var(--fill-color);\n",
              "    }\n",
              "    60% {\n",
              "      border-color: transparent;\n",
              "      border-right-color: var(--fill-color);\n",
              "    }\n",
              "    80% {\n",
              "      border-color: transparent;\n",
              "      border-right-color: var(--fill-color);\n",
              "      border-bottom-color: var(--fill-color);\n",
              "    }\n",
              "    90% {\n",
              "      border-color: transparent;\n",
              "      border-bottom-color: var(--fill-color);\n",
              "    }\n",
              "  }\n",
              "</style>\n",
              "\n",
              "  <script>\n",
              "    async function quickchart(key) {\n",
              "      const quickchartButtonEl =\n",
              "        document.querySelector('#' + key + ' button');\n",
              "      quickchartButtonEl.disabled = true;  // To prevent multiple clicks.\n",
              "      quickchartButtonEl.classList.add('colab-df-spinner');\n",
              "      try {\n",
              "        const charts = await google.colab.kernel.invokeFunction(\n",
              "            'suggestCharts', [key], {});\n",
              "      } catch (error) {\n",
              "        console.error('Error during call to suggestCharts:', error);\n",
              "      }\n",
              "      quickchartButtonEl.classList.remove('colab-df-spinner');\n",
              "      quickchartButtonEl.classList.add('colab-df-quickchart-complete');\n",
              "    }\n",
              "    (() => {\n",
              "      let quickchartButtonEl =\n",
              "        document.querySelector('#df-5efbbc40-e103-4d9a-9484-67377257e8f8 button');\n",
              "      quickchartButtonEl.style.display =\n",
              "        google.colab.kernel.accessAllowed ? 'block' : 'none';\n",
              "    })();\n",
              "  </script>\n",
              "</div>\n",
              "\n",
              "    </div>\n",
              "  </div>\n"
            ]
          },
          "metadata": {},
          "execution_count": 1
        }
      ]
    },
    {
      "cell_type": "markdown",
      "source": [
        "The dataset consists of the following columns: sepal.length, sepal.width, petal.length, petal.width, and variety. These columns represent the measurements of the iris flowers and their respective species."
      ],
      "metadata": {
        "id": "LRbw5uwq1UOW"
      }
    },
    {
      "cell_type": "code",
      "source": [],
      "metadata": {
        "id": "DwilzG5X1Zpl"
      },
      "execution_count": null,
      "outputs": []
    },
    {
      "cell_type": "markdown",
      "source": [
        "Now, I will perform some basic statistical analyses to understand the distribution of the data and then visualize the data to explore the relationships between features and the separability of the classes."
      ],
      "metadata": {
        "id": "xcKITn3Y1oAM"
      }
    },
    {
      "cell_type": "code",
      "source": [
        "import matplotlib.pyplot as plt\n",
        "\n",
        "# Set up the matplotlib figure\n",
        "plt.figure(figsize=(15, 10))\n",
        "\n",
        "# Histograms for each numerical feature\n",
        "for i, feature in enumerate(['sepal.length', 'sepal.width', 'petal.length', 'petal.width']):\n",
        "    plt.subplot(2, 2, i + 1)\n",
        "    iris_df[feature].hist(bins=20, alpha=0.7)\n",
        "    plt.title(f'Histogram of {feature}')\n",
        "    plt.xlabel(feature)\n",
        "    plt.ylabel('Frequency')\n",
        "\n",
        "# Display the histograms\n",
        "plt.tight_layout()\n",
        "plt.show()\n",
        "\n"
      ],
      "metadata": {
        "colab": {
          "base_uri": "https://localhost:8080/",
          "height": 1000
        },
        "id": "r5uA52G21xVd",
        "outputId": "e345f614-3fef-4023-abbb-e29f3fcf227c"
      },
      "execution_count": 3,
      "outputs": [
        {
          "output_type": "display_data",
          "data": {
            "text/plain": [
              "<Figure size 1500x1000 with 4 Axes>"
            ],
            "image/png": "[encoded data removed]"
          },
          "metadata": {}
        }
      ]
    },
    {
      "cell_type": "markdown",
      "source": [
        "    Sepal Length: The distribution shows a peak around 5 to 6 cm.\n",
        "\n",
        "    Sepal Width: The distribution seems to be normally distributed with a peak around 3 cm.\n",
        "\n",
        "    Petal Length: This feature has a bimodal distribution, indicating the presence of two groups in the data.\n",
        "    \n",
        "    Petal Width: Similar to petal length, this also seems to have a bimodal distribution, suggesting two groups."
      ],
      "metadata": {
        "id": "nzc6six02Scc"
      }
    },
    {
      "cell_type": "code",
      "source": [],
      "metadata": {
        "id": "cq5ilgzJ2bNU"
      },
      "execution_count": null,
      "outputs": []
    },
    {
      "cell_type": "markdown",
      "source": [
        "#User Encode the target variable ie convert it to numeric type"
      ],
      "metadata": {
        "id": "pzJoLqvZ2fYw"
      }
    },
    {
      "cell_type": "code",
      "source": [
        "#Encode the target variable ie convert it to numeric type\n",
        "from sklearn.preprocessing import LabelEncoder\n",
        "\n",
        "# Initialize the label encoder\n",
        "label_encoder = LabelEncoder()\n",
        "\n",
        "# Fit label encoder and return encoded labels\n",
        "iris_df['variety_encoded'] = label_encoder.fit_transform(iris_df['variety'])\n",
        "\n",
        "# Display the first few rows to verify the encoding\n",
        "iris_df.head()\n"
      ],
      "metadata": {
        "colab": {
          "base_uri": "https://localhost:8080/",
          "height": 206
        },
        "id": "hOPCXN0Q2jeE",
        "outputId": "81912ae5-49ef-4e2d-970e-3c7d6cccf894"
      },
      "execution_count": 23,
      "outputs": [
        {
          "output_type": "execute_result",
          "data": {
            "text/plain": [
              "   sepal.length  sepal.width  petal.length  petal.width variety  \\\n",
              "0           5.1          3.5           1.4          0.2  Setosa   \n",
              "1           4.9          3.0           1.4          0.2  Setosa   \n",
              "2           4.7          3.2           1.3          0.2  Setosa   \n",
              "3           4.6          3.1           1.5          0.2  Setosa   \n",
              "4           5.0          3.6           1.4          0.2  Setosa   \n",
              "\n",
              "   variety_encoded  \n",
              "0                0  \n",
              "1                0  \n",
              "2                0  \n",
              "3                0  \n",
              "4                0  "
            ],
            "text/html": [
              "\n",
              "  <div id=\"df-4e98705b-70e2-4c53-b70b-68e0635c8965\" class=\"colab-df-container\">\n",
              "    <div>\n",
              "<style scoped>\n",
              "    .dataframe tbody tr th:only-of-type {\n",
              "        vertical-align: middle;\n",
              "    }\n",
              "\n",
              "    .dataframe tbody tr th {\n",
              "        vertical-align: top;\n",
              "    }\n",
              "\n",
              "    .dataframe thead th {\n",
              "        text-align: right;\n",
              "    }\n",
              "</style>\n",
              "<table border=\"1\" class=\"dataframe\">\n",
              "  <thead>\n",
              "    <tr style=\"text-align: right;\">\n",
              "      <th></th>\n",
              "      <th>sepal.length</th>\n",
              "      <th>sepal.width</th>\n",
              "      <th>petal.length</th>\n",
              "      <th>petal.width</th>\n",
              "      <th>variety</th>\n",
              "      <th>variety_encoded</th>\n",
              "    </tr>\n",
              "  </thead>\n",
              "  <tbody>\n",
              "    <tr>\n",
              "      <th>0</th>\n",
              "      <td>5.1</td>\n",
              "      <td>3.5</td>\n",
              "      <td>1.4</td>\n",
              "      <td>0.2</td>\n",
              "      <td>Setosa</td>\n",
              "      <td>0</td>\n",
              "    </tr>\n",
              "    <tr>\n",
              "      <th>1</th>\n",
              "      <td>4.9</td>\n",
              "      <td>3.0</td>\n",
              "      <td>1.4</td>\n",
              "      <td>0.2</td>\n",
              "      <td>Setosa</td>\n",
              "      <td>0</td>\n",
              "    </tr>\n",
              "    <tr>\n",
              "      <th>2</th>\n",
              "      <td>4.7</td>\n",
              "      <td>3.2</td>\n",
              "      <td>1.3</td>\n",
              "      <td>0.2</td>\n",
              "      <td>Setosa</td>\n",
              "      <td>0</td>\n",
              "    </tr>\n",
              "    <tr>\n",
              "      <th>3</th>\n",
              "      <td>4.6</td>\n",
              "      <td>3.1</td>\n",
              "      <td>1.5</td>\n",
              "      <td>0.2</td>\n",
              "      <td>Setosa</td>\n",
              "      <td>0</td>\n",
              "    </tr>\n",
              "    <tr>\n",
              "      <th>4</th>\n",
              "      <td>5.0</td>\n",
              "      <td>3.6</td>\n",
              "      <td>1.4</td>\n",
              "      <td>0.2</td>\n",
              "      <td>Setosa</td>\n",
              "      <td>0</td>\n",
              "    </tr>\n",
              "  </tbody>\n",
              "</table>\n",
              "</div>\n",
              "    <div class=\"colab-df-buttons\">\n",
              "\n",
              "  <div class=\"colab-df-container\">\n",
              "    <button class=\"colab-df-convert\" onclick=\"convertToInteractive('df-4e98705b-70e2-4c53-b70b-68e0635c8965')\"\n",
              "            title=\"Convert this dataframe to an interactive table.\"\n",
              "            style=\"display:none;\">\n",
              "\n",
              "  <svg xmlns=\"http://www.w3.org/2000/svg\" height=\"24px\" viewBox=\"0 -960 960 960\">\n",
              "    <path d=\"M120-120v-720h720v720H120Zm60-500h600v-160H180v160Zm220 220h160v-160H400v160Zm0 220h160v-160H400v160ZM180-400h160v-160H180v160Zm440 0h160v-160H620v160ZM180-180h160v-160H180v160Zm440 0h160v-160H620v160Z\"/>\n",
              "  </svg>\n",
              "    </button>\n",
              "\n",
              "  <style>\n",
              "    .colab-df-container {\n",
              "      display:flex;\n",
              "      gap: 12px;\n",
              "    }\n",
              "\n",
              "    .colab-df-convert {\n",
              "      background-color: #E8F0FE;\n",
              "      border: none;\n",
              "      border-radius: 50%;\n",
              "      cursor: pointer;\n",
              "      display: none;\n",
              "      fill: #1967D2;\n",
              "      height: 32px;\n",
              "      padding: 0 0 0 0;\n",
              "      width: 32px;\n",
              "    }\n",
              "\n",
              "    .colab-df-convert:hover {\n",
              "      background-color: #E2EBFA;\n",
              "      box-shadow: 0px 1px 2px rgba(60, 64, 67, 0.3), 0px 1px 3px 1px rgba(60, 64, 67, 0.15);\n",
              "      fill: #174EA6;\n",
              "    }\n",
              "\n",
              "    .colab-df-buttons div {\n",
              "      margin-bottom: 4px;\n",
              "    }\n",
              "\n",
              "    [theme=dark] .colab-df-convert {\n",
              "      background-color: #3B4455;\n",
              "      fill: #D2E3FC;\n",
              "    }\n",
              "\n",
              "    [theme=dark] .colab-df-convert:hover {\n",
              "      background-color: #434B5C;\n",
              "      box-shadow: 0px 1px 3px 1px rgba(0, 0, 0, 0.15);\n",
              "      filter: drop-shadow(0px 1px 2px rgba(0, 0, 0, 0.3));\n",
              "      fill: #FFFFFF;\n",
              "    }\n",
              "  </style>\n",
              "\n",
              "    <script>\n",
              "      const buttonEl =\n",
              "        document.querySelector('#df-4e98705b-70e2-4c53-b70b-68e0635c8965 button.colab-df-convert');\n",
              "      buttonEl.style.display =\n",
              "        google.colab.kernel.accessAllowed ? 'block' : 'none';\n",
              "\n",
              "      async function convertToInteractive(key) {\n",
              "        const element = document.querySelector('#df-4e98705b-70e2-4c53-b70b-68e0635c8965');\n",
              "        const dataTable =\n",
              "          await google.colab.kernel.invokeFunction('convertToInteractive',\n",
              "                                                    [key], {});\n",
              "        if (!dataTable) return;\n",
              "\n",
              "        const docLinkHtml = 'Like what you see? Visit the ' +\n",
              "          '<a target=\"_blank\" href=https://colab.research.google.com/notebooks/data_table.ipynb>data table notebook</a>'\n",
              "          + ' to learn more about interactive tables.';\n",
              "        element.innerHTML = '';\n",
              "        dataTable['output_type'] = 'display_data';\n",
              "        await google.colab.output.renderOutput(dataTable, element);\n",
              "        const docLink = document.createElement('div');\n",
              "        docLink.innerHTML = docLinkHtml;\n",
              "        element.appendChild(docLink);\n",
              "      }\n",
              "    </script>\n",
              "  </div>\n",
              "\n",
              "\n",
              "<div id=\"df-0b6fa5de-1078-4bf4-a408-a996bd6cc375\">\n",
              "  <button class=\"colab-df-quickchart\" onclick=\"quickchart('df-0b6fa5de-1078-4bf4-a408-a996bd6cc375')\"\n",
              "            title=\"Suggest charts\"\n",
              "            style=\"display:none;\">\n",
              "\n",
              "<svg xmlns=\"http://www.w3.org/2000/svg\" height=\"24px\"viewBox=\"0 0 24 24\"\n",
              "     width=\"24px\">\n",
              "    <g>\n",
              "        <path d=\"M19 3H5c-1.1 0-2 .9-2 2v14c0 1.1.9 2 2 2h14c1.1 0 2-.9 2-2V5c0-1.1-.9-2-2-2zM9 17H7v-7h2v7zm4 0h-2V7h2v10zm4 0h-2v-4h2v4z\"/>\n",
              "    </g>\n",
              "</svg>\n",
              "  </button>\n",
              "\n",
              "<style>\n",
              "  .colab-df-quickchart {\n",
              "      --bg-color: #E8F0FE;\n",
              "      --fill-color: #1967D2;\n",
              "      --hover-bg-color: #E2EBFA;\n",
              "      --hover-fill-color: #174EA6;\n",
              "      --disabled-fill-color: #AAA;\n",
              "      --disabled-bg-color: #DDD;\n",
              "  }\n",
              "\n",
              "  [theme=dark] .colab-df-quickchart {\n",
              "      --bg-color: #3B4455;\n",
              "      --fill-color: #D2E3FC;\n",
              "      --hover-bg-color: #434B5C;\n",
              "      --hover-fill-color: #FFFFFF;\n",
              "      --disabled-bg-color: #3B4455;\n",
              "      --disabled-fill-color: #666;\n",
              "  }\n",
              "\n",
              "  .colab-df-quickchart {\n",
              "    background-color: var(--bg-color);\n",
              "    border: none;\n",
              "    border-radius: 50%;\n",
              "    cursor: pointer;\n",
              "    display: none;\n",
              "    fill: var(--fill-color);\n",
              "    height: 32px;\n",
              "    padding: 0;\n",
              "    width: 32px;\n",
              "  }\n",
              "\n",
              "  .colab-df-quickchart:hover {\n",
              "    background-color: var(--hover-bg-color);\n",
              "    box-shadow: 0 1px 2px rgba(60, 64, 67, 0.3), 0 1px 3px 1px rgba(60, 64, 67, 0.15);\n",
              "    fill: var(--button-hover-fill-color);\n",
              "  }\n",
              "\n",
              "  .colab-df-quickchart-complete:disabled,\n",
              "  .colab-df-quickchart-complete:disabled:hover {\n",
              "    background-color: var(--disabled-bg-color);\n",
              "    fill: var(--disabled-fill-color);\n",
              "    box-shadow: none;\n",
              "  }\n",
              "\n",
              "  .colab-df-spinner {\n",
              "    border: 2px solid var(--fill-color);\n",
              "    border-color: transparent;\n",
              "    border-bottom-color: var(--fill-color);\n",
              "    animation:\n",
              "      spin 1s steps(1) infinite;\n",
              "  }\n",
              "\n",
              "  @keyframes spin {\n",
              "    0% {\n",
              "      border-color: transparent;\n",
              "      border-bottom-color: var(--fill-color);\n",
              "      border-left-color: var(--fill-color);\n",
              "    }\n",
              "    20% {\n",
              "      border-color: transparent;\n",
              "      border-left-color: var(--fill-color);\n",
              "      border-top-color: var(--fill-color);\n",
              "    }\n",
              "    30% {\n",
              "      border-color: transparent;\n",
              "      border-left-color: var(--fill-color);\n",
              "      border-top-color: var(--fill-color);\n",
              "      border-right-color: var(--fill-color);\n",
              "    }\n",
              "    40% {\n",
              "      border-color: transparent;\n",
              "      border-right-color: var(--fill-color);\n",
              "      border-top-color: var(--fill-color);\n",
              "    }\n",
              "    60% {\n",
              "      border-color: transparent;\n",
              "      border-right-color: var(--fill-color);\n",
              "    }\n",
              "    80% {\n",
              "      border-color: transparent;\n",
              "      border-right-color: var(--fill-color);\n",
              "      border-bottom-color: var(--fill-color);\n",
              "    }\n",
              "    90% {\n",
              "      border-color: transparent;\n",
              "      border-bottom-color: var(--fill-color);\n",
              "    }\n",
              "  }\n",
              "</style>\n",
              "\n",
              "  <script>\n",
              "    async function quickchart(key) {\n",
              "      const quickchartButtonEl =\n",
              "        document.querySelector('#' + key + ' button');\n",
              "      quickchartButtonEl.disabled = true;  // To prevent multiple clicks.\n",
              "      quickchartButtonEl.classList.add('colab-df-spinner');\n",
              "      try {\n",
              "        const charts = await google.colab.kernel.invokeFunction(\n",
              "            'suggestCharts', [key], {});\n",
              "      } catch (error) {\n",
              "        console.error('Error during call to suggestCharts:', error);\n",
              "      }\n",
              "      quickchartButtonEl.classList.remove('colab-df-spinner');\n",
              "      quickchartButtonEl.classList.add('colab-df-quickchart-complete');\n",
              "    }\n",
              "    (() => {\n",
              "      let quickchartButtonEl =\n",
              "        document.querySelector('#df-0b6fa5de-1078-4bf4-a408-a996bd6cc375 button');\n",
              "      quickchartButtonEl.style.display =\n",
              "        google.colab.kernel.accessAllowed ? 'block' : 'none';\n",
              "    })();\n",
              "  </script>\n",
              "</div>\n",
              "\n",
              "    </div>\n",
              "  </div>\n"
            ]
          },
          "metadata": {},
          "execution_count": 23
        }
      ]
    },
    {
      "cell_type": "code",
      "source": [],
      "metadata": {
        "id": "rZzgg9Ea27Tt"
      },
      "execution_count": null,
      "outputs": []
    },
    {
      "cell_type": "markdown",
      "source": [
        "#Splitting dataset into 80:10:10 and 60:20:20 train, validation, and test sets\n",
        "\n",
        "To implement KFold Cross Validation, i will:\n",
        "\n",
        "    Split the dataset into features (X) and target (y).\n",
        "\n",
        "    Apply two different split ratios for the data:\n",
        "        First split: 60% training, 20% validation, 20% test\n",
        "        Second split: 80% training, 10% validation, 10% test\n",
        "\n",
        "    For each split, i will perform KFold Cross Validation on the training set."
      ],
      "metadata": {
        "id": "fg0mmTJ22_Uv"
      }
    },
    {
      "cell_type": "code",
      "source": [
        "from sklearn.model_selection import train_test_split\n",
        "\n",
        "# Function to split data according to the given ratios\n",
        "def split_data(iris_df, train_ratio, validation_ratio, test_ratio):\n",
        "    # Calculate validation ratio adjusted for train_test_split function\n",
        "    validation_ratio_adjusted = validation_ratio / (1 - train_ratio)\n",
        "\n",
        "    # Splitting the data into train and temp sets (temp will be split into validation and test)\n",
        "    train_data, temp_data = train_test_split(iris_df, test_size=(1 - train_ratio), random_state=42, shuffle=True)\n",
        "\n",
        "    # Splitting the temp data into validation and test sets\n",
        "    validation_data, test_data = train_test_split(temp_data, test_size=test_ratio/(test_ratio + validation_ratio), random_state=42, shuffle=True)\n",
        "\n",
        "    return train_data, validation_data, test_data\n",
        "\n",
        "# Split the data according to the 80:10:10 ratio\n",
        "train_data_801010, validation_data_801010, test_data_801010 = split_data(iris_df, 0.8, 0.1, 0.1)\n",
        "\n",
        "# Split the data according to the 60:20:20 ratio\n",
        "train_data_602020, validation_data_602020, test_data_602020 = split_data(iris_df, 0.6, 0.2, 0.2)\n",
        "\n",
        "# Display the number of samples in each split for verification\n",
        "len(train_data_801010), len(validation_data_801010), len(test_data_801010), len(train_data_602020), len(validation_data_602020), len(test_data_602020)\n"
      ],
      "metadata": {
        "colab": {
          "base_uri": "https://localhost:8080/"
        },
        "id": "bNTJ25WA-4mg",
        "outputId": "b724a4e4-532c-410f-ac6a-25b995180296"
      },
      "execution_count": 24,
      "outputs": [
        {
          "output_type": "execute_result",
          "data": {
            "text/plain": [
              "(120, 15, 15, 90, 30, 30)"
            ]
          },
          "metadata": {},
          "execution_count": 24
        }
      ]
    },
    {
      "cell_type": "markdown",
      "source": [
        "For the 80:10:10 split:\n",
        "\n",
        "    Training set: 120 samples\n",
        "    Validation set: 15 samples\n",
        "    Test set: 15 samples\n",
        "\n",
        "For the 60:20:20 split:\n",
        "\n",
        "    Training set: 90 samples\n",
        "    Validation set: 30 samples\n",
        "    Test set: 30 samples"
      ],
      "metadata": {
        "id": "fXp1nfNO_dls"
      }
    },
    {
      "cell_type": "code",
      "source": [
        "from sklearn.model_selection import train_test_split, KFold\n",
        "from sklearn.metrics import accuracy_score\n",
        "from sklearn.neighbors import KNeighborsClassifier\n",
        "import numpy as np\n",
        "\n",
        "# Prepare the data\n",
        "X = iris_df.drop(columns=['variety', 'variety_encoded'])\n",
        "y = iris_df['variety_encoded']\n",
        "\n",
        "# Define KFold Cross Validation function\n",
        "def kfold_cv(X, y, n_splits=5, random_state=42):\n",
        "    kf = KFold(n_splits=n_splits, shuffle=True, random_state=random_state)\n",
        "    model = KNeighborsClassifier()\n",
        "    acc_scores = []\n",
        "\n",
        "    for train_index, test_index in kf.split(X):\n",
        "        X_train, X_test = X.iloc[train_index], X.iloc[test_index]\n",
        "        y_train, y_test = y.iloc[train_index], y.iloc[test_index]\n",
        "        model.fit(X_train, y_train)\n",
        "        predictions = model.predict(X_test)\n",
        "        acc_scores.append(accuracy_score(y_test, predictions))\n",
        "\n",
        "    return np.mean(acc_scores), np.std(acc_scores)\n",
        "\n",
        "# Splits ratios\n",
        "splits = {\n",
        "    '60-20-20': (0.6, 0.2),\n",
        "    '80-10-10': (0.8, 0.1)\n",
        "}\n",
        "\n",
        "# Results dictionary\n",
        "results = {}\n",
        "\n",
        "# Perform KFold Cross Validation for each split ratio\n",
        "for split_name, (train_size, test_val_size) in splits.items():\n",
        "    # Split the data\n",
        "    X_train, X_temp, y_train, y_temp = train_test_split(X, y, train_size=train_size, random_state=42)\n",
        "    X_val, X_test, y_val, y_test = train_test_split(X_temp, y_temp, test_size=0.5, random_state=42)\n",
        "\n",
        "    # Perform KFold Cross Validation\n",
        "    mean_acc, std_acc = kfold_cv(X_train, y_train)\n",
        "    results[split_name] = {'Mean Accuracy': mean_acc, 'Standard Deviation': std_acc}\n",
        "\n",
        "results\n"
      ],
      "metadata": {
        "colab": {
          "base_uri": "https://localhost:8080/"
        },
        "id": "RNlfh3d93Db-",
        "outputId": "99d262a5-6793-456c-de2c-e708f50c4a0b"
      },
      "execution_count": 25,
      "outputs": [
        {
          "output_type": "execute_result",
          "data": {
            "text/plain": [
              "{'60-20-20': {'Mean Accuracy': 0.9, 'Standard Deviation': 0.05443310539518174},\n",
              " '80-10-10': {'Mean Accuracy': 0.95, 'Standard Deviation': 0.0311804782231162}}"
            ]
          },
          "metadata": {},
          "execution_count": 25
        }
      ]
    },
    {
      "cell_type": "markdown",
      "source": [
        "These results indicate that with the 80-10-10 split, the model achieved a higher mean accuracy and a lower standard deviation, suggesting a more stable and accurate model performance compared to the 60-20-20 split."
      ],
      "metadata": {
        "id": "JBth_BKM32i9"
      }
    },
    {
      "cell_type": "markdown",
      "source": [
        "#Implement Grid Search to find optimal hyperparameters for any 3 algorithm(outof LR, SVM, MLP, RF, Boosting)"
      ],
      "metadata": {
        "id": "8c7pz6cG3_Z1"
      }
    },
    {
      "cell_type": "code",
      "source": [
        "from sklearn.model_selection import GridSearchCV\n",
        "from sklearn.linear_model import LogisticRegression\n",
        "from sklearn.svm import SVC\n",
        "from sklearn.ensemble import RandomForestClassifier\n",
        "\n",
        "# Define parameter grid for Logistic Regression\n",
        "param_grid_lr = {\n",
        "    'C': [0.001, 0.01, 0.1, 1, 10, 100],\n",
        "    'solver': ['newton-cg', 'lbfgs', 'liblinear']\n",
        "}\n",
        "\n",
        "# Define parameter grid for SVM\n",
        "param_grid_svm = {\n",
        "    'C': [0.1, 1, 10, 100],\n",
        "    'gamma': [1, 0.1, 0.01, 0.001],\n",
        "    'kernel': ['rbf']\n",
        "}\n",
        "\n",
        "# Define parameter grid for Random Forest\n",
        "param_grid_rf = {\n",
        "    'n_estimators': [10, 50, 100, 200],\n",
        "    'max_depth': [None, 10, 20, 30],\n",
        "    'min_samples_split': [2, 5, 10],\n",
        "    'min_samples_leaf': [1, 2, 4]\n",
        "}\n",
        "\n",
        "# Create models\n",
        "models = {\n",
        "    'Logistic Regression': (LogisticRegression(), param_grid_lr),\n",
        "    'SVM': (SVC(), param_grid_svm),\n",
        "    'Random Forest': (RandomForestClassifier(), param_grid_rf)\n",
        "}\n",
        "\n",
        "# Results dictionary\n",
        "grid_results = {}\n",
        "\n",
        "# Perform Grid Search with Cross-Validation\n",
        "for model_name, (model, params) in models.items():\n",
        "    grid_search = GridSearchCV(estimator=model, param_grid=params, cv=5, n_jobs=-1, verbose=0)\n",
        "    grid_search.fit(X_train, y_train)\n",
        "    best_params = grid_search.best_params_\n",
        "    best_score = grid_search.best_score_\n",
        "    grid_results[model_name] = {'Best Parameters': best_params, 'Best Score': best_score}\n",
        "\n",
        "grid_results\n"
      ],
      "metadata": {
        "colab": {
          "base_uri": "https://localhost:8080/"
        },
        "id": "U0Yv9J9o4FSc",
        "outputId": "953fece3-de4f-4711-dc34-df0c32486b53"
      },
      "execution_count": 26,
      "outputs": [
        {
          "output_type": "execute_result",
          "data": {
            "text/plain": [
              "{'Logistic Regression': {'Best Parameters': {'C': 1, 'solver': 'newton-cg'},\n",
              "  'Best Score': 0.9666666666666666},\n",
              " 'SVM': {'Best Parameters': {'C': 1, 'gamma': 1, 'kernel': 'rbf'},\n",
              "  'Best Score': 0.9583333333333334},\n",
              " 'Random Forest': {'Best Parameters': {'max_depth': None,\n",
              "   'min_samples_leaf': 4,\n",
              "   'min_samples_split': 5,\n",
              "   'n_estimators': 200},\n",
              "  'Best Score': 0.9666666666666666}}"
            ]
          },
          "metadata": {},
          "execution_count": 26
        }
      ]
    },
    {
      "cell_type": "markdown",
      "source": [
        "    Logistic Regression\n",
        "        Best Parameters: {'C': 1, 'solver': 'newton-cg'}\n",
        "        Best Score: 0.9667\n",
        "\n",
        "    SVM\n",
        "        Best Parameters: {'C': 1, 'gamma': 1, 'kernel': 'rbf'}\n",
        "        Best Score: 0.9583\n",
        "\n",
        "    Random Forest\n",
        "        Best Parameters: {'max_depth': None, 'min_samples_leaf': 1, 'min_samples_split': 10, 'n_estimators': 200}\n",
        "        Best Score: 0.9583\n",
        "\n",
        "\n",
        "  The best score indicates the highest cross-validated accuracy achieved by the model with the optimal hyperparameters. Logistic Regression performed slightly better than the other two models in this case."
      ],
      "metadata": {
        "id": "MLvokT2G7Vce"
      }
    },
    {
      "cell_type": "markdown",
      "source": [
        "#Analyze the results on the validation set and test set and mention which model performed the best and why?\n",
        "\n",
        "we are going to Fit the Models on the Training Set, Predict on Validation and Test Sets, Evaluate Performance. Compare and Analyze"
      ],
      "metadata": {
        "id": "xDEayAkJ7ukH"
      }
    },
    {
      "cell_type": "code",
      "source": [
        "from sklearn.metrics import accuracy_score, classification_report\n",
        "\n",
        "# Best models with optimal parameters\n",
        "best_models = {\n",
        "    'Logistic Regression': LogisticRegression(**grid_results['Logistic Regression']['Best Parameters']),\n",
        "    'SVM': SVC(**grid_results['SVM']['Best Parameters']),\n",
        "    'Random Forest': RandomForestClassifier(**grid_results['Random Forest']['Best Parameters'])\n",
        "}\n",
        "\n",
        "# Dictionary to store performance metrics\n",
        "performance_metrics = {}\n",
        "\n",
        "# Fit, predict, and evaluate each model\n",
        "for model_name, model in best_models.items():\n",
        "    # Fit the model\n",
        "    model.fit(X_train, y_train)\n",
        "\n",
        "    # Predict on validation and test sets\n",
        "    y_val_pred = model.predict(X_val)\n",
        "    y_test_pred = model.predict(X_test)\n",
        "\n",
        "    # Evaluate performance\n",
        "    val_accuracy = accuracy_score(y_val, y_val_pred)\n",
        "    test_accuracy = accuracy_score(y_test, y_test_pred)\n",
        "    val_report = classification_report(y_val, y_val_pred)\n",
        "    test_report = classification_report(y_test, y_test_pred)\n",
        "\n",
        "    # Store results\n",
        "    performance_metrics[model_name] = {\n",
        "        'Validation Accuracy': val_accuracy,\n",
        "        'Test Accuracy': test_accuracy,\n",
        "        'Validation Report': val_report,\n",
        "        'Test Report': test_report\n",
        "    }\n",
        "\n",
        "performance_metrics\n"
      ],
      "metadata": {
        "colab": {
          "base_uri": "https://localhost:8080/"
        },
        "id": "8WcmJkU38SL-",
        "outputId": "b69447c0-2043-473d-c6f7-2677dbaaf170"
      },
      "execution_count": 7,
      "outputs": [
        {
          "output_type": "execute_result",
          "data": {
            "text/plain": [
              "{'Logistic Regression': {'Validation Accuracy': 1.0,\n",
              "  'Test Accuracy': 1.0,\n",
              "  'Validation Report': '              precision    recall  f1-score   support\\n\\n           0       1.00      1.00      1.00         5\\n           1       1.00      1.00      1.00         3\\n           2       1.00      1.00      1.00         7\\n\\n    accuracy                           1.00        15\\n   macro avg       1.00      1.00      1.00        15\\nweighted avg       1.00      1.00      1.00        15\\n',\n",
              "  'Test Report': '              precision    recall  f1-score   support\\n\\n           0       1.00      1.00      1.00         5\\n           1       1.00      1.00      1.00         6\\n           2       1.00      1.00      1.00         4\\n\\n    accuracy                           1.00        15\\n   macro avg       1.00      1.00      1.00        15\\nweighted avg       1.00      1.00      1.00        15\\n'},\n",
              " 'SVM': {'Validation Accuracy': 1.0,\n",
              "  'Test Accuracy': 1.0,\n",
              "  'Validation Report': '              precision    recall  f1-score   support\\n\\n           0       1.00      1.00      1.00         5\\n           1       1.00      1.00      1.00         3\\n           2       1.00      1.00      1.00         7\\n\\n    accuracy                           1.00        15\\n   macro avg       1.00      1.00      1.00        15\\nweighted avg       1.00      1.00      1.00        15\\n',\n",
              "  'Test Report': '              precision    recall  f1-score   support\\n\\n           0       1.00      1.00      1.00         5\\n           1       1.00      1.00      1.00         6\\n           2       1.00      1.00      1.00         4\\n\\n    accuracy                           1.00        15\\n   macro avg       1.00      1.00      1.00        15\\nweighted avg       1.00      1.00      1.00        15\\n'},\n",
              " 'Random Forest': {'Validation Accuracy': 1.0,\n",
              "  'Test Accuracy': 1.0,\n",
              "  'Validation Report': '              precision    recall  f1-score   support\\n\\n           0       1.00      1.00      1.00         5\\n           1       1.00      1.00      1.00         3\\n           2       1.00      1.00      1.00         7\\n\\n    accuracy                           1.00        15\\n   macro avg       1.00      1.00      1.00        15\\nweighted avg       1.00      1.00      1.00        15\\n',\n",
              "  'Test Report': '              precision    recall  f1-score   support\\n\\n           0       1.00      1.00      1.00         5\\n           1       1.00      1.00      1.00         6\\n           2       1.00      1.00      1.00         4\\n\\n    accuracy                           1.00        15\\n   macro avg       1.00      1.00      1.00        15\\nweighted avg       1.00      1.00      1.00        15\\n'}}"
            ]
          },
          "metadata": {},
          "execution_count": 7
        }
      ]
    },
    {
      "cell_type": "code",
      "source": [],
      "metadata": {
        "id": "Aq28oE-l927N"
      },
      "execution_count": null,
      "outputs": []
    },
    {
      "cell_type": "markdown",
      "source": [
        "    Logistic Regression:\n",
        "        Validation Accuracy: 100%\n",
        "        Test Accuracy: 100%\n",
        "        Precision, Recall, and F1-Score: 100% for all classes on both validation and test sets.\n",
        "\n",
        "    Support Vector Machine (SVM):\n",
        "        Validation Accuracy: 100%\n",
        "        Test Accuracy: 100%\n",
        "        Precision, Recall, and F1-Score: 100% for all classes on both validation and test sets.\n",
        "\n",
        "    Random Forest:\n",
        "        Validation Accuracy: 100%\n",
        "        Test Accuracy: 100%\n",
        "        Precision, Recall, and F1-Score: 100% for all classes on both validation and test sets.\n",
        "\n",
        "Analysis:\n",
        "\n",
        "    We have a perfect accuracy for all the model, precision, recall, and F1-score on both the validation and test sets. This means that the models have learned the patterns in the dataset very well.\n",
        "    "
      ],
      "metadata": {
        "id": "ytLGrVpvM8wd"
      }
    },
    {
      "cell_type": "code",
      "source": [],
      "metadata": {
        "id": "oBa1jZPuNYYF"
      },
      "execution_count": null,
      "outputs": []
    },
    {
      "cell_type": "markdown",
      "source": [
        "#Provide observations and reasoning for visualizations and results included"
      ],
      "metadata": {
        "id": "e1yfC6yuNw32"
      }
    },
    {
      "cell_type": "code",
      "source": [],
      "metadata": {
        "id": "Q0tNGHEwN2vJ"
      },
      "execution_count": null,
      "outputs": []
    },
    {
      "cell_type": "markdown",
      "source": [
        "-  The 3 models achieved a 100% accuracy, precision, recall, and F1-score on both the validation and test sets. This might be explained by the simplicity of the data and the fact that models like SVM and Random Forest can easily capture the patterns in the data, leading to perfect performance.\n",
        "\n",
        "- The models show consistent and perfect performance across the validation and test sets, indicating no overfitting or underfitting.\n",
        "\n",
        "-The evaluation metrics (accuracy, precision, recall, F1-score) all show perfect scores."
      ],
      "metadata": {
        "id": "JIVc8Q9bOMxd"
      }
    },
    {
      "cell_type": "code",
      "source": [],
      "metadata": {
        "id": "SCOy8D93P33Y"
      },
      "execution_count": null,
      "outputs": []
    },
    {
      "cell_type": "markdown",
      "source": [
        "#Compare the performance of models. What was the best proportion from the set of experiments you conducted?:"
      ],
      "metadata": {
        "id": "5tcwAU3FP4cs"
      }
    },
    {
      "cell_type": "markdown",
      "source": [
        " All three models (Logistic Regression, SVM, and Random Forest) achieved perfect performance metrics on the Iris dataset, both on the validation and test sets.\n",
        "     Accuracy: 100% for all models on both validation and test sets.\n",
        "    Precision, Recall, and F1-Score: 100% for all classes on both validation and test sets for all models.\n",
        "\n",
        "In conclusion, the 80-10-10 split model achieved a higher mean accuracy and a lower standard deviation, suggesting a more stable and accurate model performance compared to the 60-20-20 split."
      ],
      "metadata": {
        "id": "59cgneCZP-Wf"
      }
    }
  ]
}